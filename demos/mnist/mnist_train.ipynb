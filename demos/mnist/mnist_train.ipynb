{
 "cells": [
  {
   "cell_type": "code",
   "execution_count": null,
   "id": "a8b0e5da",
   "metadata": {},
   "outputs": [],
   "source": [
    "!pip install torchvision\n",
    "!pip install ipywidgets"
   ]
  },
  {
   "cell_type": "code",
   "execution_count": null,
   "id": "05ba0a77",
   "metadata": {},
   "outputs": [],
   "source": [
    "%load_ext autoreload\n",
    "%autoreload 2"
   ]
  },
  {
   "cell_type": "code",
   "execution_count": null,
   "id": "d9d70007",
   "metadata": {},
   "outputs": [],
   "source": [
    "import pickle\n",
    "import torch\n",
    "from torch.utils.data import DataLoader\n",
    "import torch.nn as nn\n",
    "from torch import optim\n",
    "from datetime import datetime\n",
    "from mnist_data import MNISTSampler, get_mnist_data\n",
    "from mnist_utils import CNN, train, test, extract_embeddings, run_distribution_ablation"
   ]
  },
  {
   "cell_type": "code",
   "execution_count": null,
   "id": "108d13b3",
   "metadata": {},
   "outputs": [],
   "source": [
    "import warnings\n",
    "warnings.filterwarnings(\"ignore\")"
   ]
  },
  {
   "cell_type": "code",
   "execution_count": null,
   "id": "300c3cc2",
   "metadata": {},
   "outputs": [],
   "source": [
    "# Device configuration\n",
    "device = torch.device('cuda' if torch.cuda.is_available() else 'cpu')\n",
    "device"
   ]
  },
  {
   "cell_type": "code",
   "execution_count": null,
   "id": "1f44b72d",
   "metadata": {
    "scrolled": true
   },
   "outputs": [],
   "source": [
    "shift_type = \"none\"\n",
    "train_data, test_data = get_mnist_data(root=\"data\", shift=shift_type, download=True)"
   ]
  },
  {
   "cell_type": "code",
   "execution_count": null,
   "id": "c656944a",
   "metadata": {},
   "outputs": [],
   "source": [
    "print(train_data)\n",
    "print(test_data)"
   ]
  },
  {
   "cell_type": "code",
   "execution_count": null,
   "id": "8c0d06f5",
   "metadata": {},
   "outputs": [],
   "source": [
    "loaders = {\n",
    "    'train' : DataLoader(train_data, \n",
    "                         batch_size=100, \n",
    "                         shuffle=True, \n",
    "                         num_workers=1),\n",
    "    \n",
    "    'test'  : DataLoader(test_data, \n",
    "                         batch_size=100, \n",
    "                         shuffle=True, \n",
    "                         num_workers=1),\n",
    "}"
   ]
  },
  {
   "cell_type": "code",
   "execution_count": null,
   "id": "a9aa60b0",
   "metadata": {},
   "outputs": [],
   "source": [
    "model = CNN()\n",
    "loss_func = nn.CrossEntropyLoss()\n",
    "optimizer = optim.Adam(model.parameters(), lr = 0.01)"
   ]
  },
  {
   "cell_type": "code",
   "execution_count": null,
   "id": "93570601",
   "metadata": {},
   "outputs": [],
   "source": [
    "model"
   ]
  },
  {
   "cell_type": "code",
   "execution_count": null,
   "id": "010d4ed2",
   "metadata": {},
   "outputs": [],
   "source": [
    "num_epochs = 5\n",
    "train(num_epochs, model, loaders['train'], loss_func, optimizer)\n",
    "test(model, loaders['test'])"
   ]
  },
  {
   "cell_type": "code",
   "execution_count": null,
   "id": "7fc363e0",
   "metadata": {},
   "outputs": [],
   "source": [
    "data = extract_embeddings(model, loaders)\n",
    "with open('mnist_embeddings.pkl', 'wb') as file:\n",
    "    pickle.dump(data, file)"
   ]
  },
  {
   "cell_type": "markdown",
   "id": "4226680a",
   "metadata": {},
   "source": [
    "# Ablation"
   ]
  },
  {
   "cell_type": "code",
   "execution_count": null,
   "id": "0c283833",
   "metadata": {},
   "outputs": [],
   "source": [
    "model = CNN()\n",
    "loss_func = nn.CrossEntropyLoss()"
   ]
  },
  {
   "cell_type": "code",
   "execution_count": null,
   "id": "7562ea40",
   "metadata": {
    "scrolled": true
   },
   "outputs": [],
   "source": [
    "st = datetime.now()\n",
    "out = run_distribution_ablation(\n",
    "    model,\n",
    "    loss_func,\n",
    "    optimizer_type = optim.Adam,\n",
    "    num_samples = 10,\n",
    "    num_epochs = 5,\n",
    "    sampling_distribution = \"dirichlet\"\n",
    ")\n",
    "print(datetime.now() - st)"
   ]
  },
  {
   "cell_type": "code",
   "execution_count": null,
   "id": "c8d862d5",
   "metadata": {},
   "outputs": [],
   "source": [
    "accuracy, embedding_distances, sample_weight_distance, proportions, classification_test_accuracies, shift_classification_accuracy, sample_weights_train, sample_weights_test = out"
   ]
  },
  {
   "cell_type": "code",
   "execution_count": null,
   "id": "7ca909c4",
   "metadata": {},
   "outputs": [],
   "source": [
    "import pickle\n",
    "ablation_dict = {\n",
    "    'accuracies': accuracy,\n",
    "    'embedding_distances': embedding_distances,\n",
    "    'sample_weight_distance': sample_weight_distance,\n",
    "    'sample_weights_train': sample_weights_train,\n",
    "    'sample_weights_test': sample_weights_test,\n",
    "    'proportions': proportions,\n",
    "    'classification_test_accuracies': classification_test_accuracies,\n",
    "    'shift_classification_accuracy': shift_classification_accuracy\n",
    "}\n",
    "with open('ablation.pkl', 'wb') as f:\n",
    "    pickle.dump(ablation_dict, f)"
   ]
  },
  {
   "cell_type": "markdown",
   "id": "ccc4aa72",
   "metadata": {},
   "source": [
    "# Visualize"
   ]
  },
  {
   "cell_type": "code",
   "execution_count": null,
   "id": "849adf15",
   "metadata": {},
   "outputs": [],
   "source": [
    "import numpy as np\n",
    "import matplotlib.pyplot as plt\n",
    "\n",
    "fig, ax1 = plt.subplots()\n",
    "\n",
    "color = 'tab:red'\n",
    "ax1.set_xlabel('Distance between embedding sets')\n",
    "ax1.set_ylabel('Accuracy', color=color)\n",
    "ax1.scatter(sample_weight_distance, classification_test_accuracies, color=color)\n",
    "ax1.tick_params(axis='y', labelcolor=color)\n",
    "\n",
    "ax2 = ax1.twinx()  # instantiate a second axes that shares the same x-axis\n",
    "\n",
    "color = 'tab:blue'\n",
    "ax2.set_ylabel('Positive rate', color=color)  # we already handled the x-label with ax1\n",
    "ax2.scatter(sample_weight_distance, proportions, color=color)\n",
    "ax2.tick_params(axis='y', labelcolor=color)\n",
    "\n",
    "fig.tight_layout()  # otherwise the right y-label is slightly clipped\n",
    "plt.show()"
   ]
  },
  {
   "cell_type": "code",
   "execution_count": null,
   "id": "0bd12d04",
   "metadata": {},
   "outputs": [],
   "source": []
  }
 ],
 "metadata": {
  "kernelspec": {
   "display_name": "eat_env",
   "language": "python",
   "name": "eat_env"
  },
  "language_info": {
   "codemirror_mode": {
    "name": "ipython",
    "version": 3
   },
   "file_extension": ".py",
   "mimetype": "text/x-python",
   "name": "python",
   "nbconvert_exporter": "python",
   "pygments_lexer": "ipython3",
   "version": "3.8.12"
  }
 },
 "nbformat": 4,
 "nbformat_minor": 5
}
