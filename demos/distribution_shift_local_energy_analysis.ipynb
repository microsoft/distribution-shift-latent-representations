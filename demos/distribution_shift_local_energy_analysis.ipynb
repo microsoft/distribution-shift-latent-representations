{
 "cells": [
  {
   "cell_type": "markdown",
   "metadata": {},
   "source": [
    "# Imports and Utils"
   ]
  },
  {
   "cell_type": "code",
   "execution_count": null,
   "metadata": {},
   "outputs": [],
   "source": [
    "%load_ext autoreload\n",
    "%autoreload 2"
   ]
  },
  {
   "cell_type": "code",
   "execution_count": null,
   "metadata": {},
   "outputs": [],
   "source": [
    "import glob\n",
    "import os\n",
    "import pickle\n",
    "from time import time\n",
    "\n",
    "import numpy as np\n",
    "\n",
    "from dslr.distance_utils import energy_distance, local_energy_distance\n",
    "from dslr.distribution_shift_utils import get_pairs, run, analyze_local_energy_metric"
   ]
  },
  {
   "cell_type": "markdown",
   "metadata": {},
   "source": [
    "___"
   ]
  },
  {
   "cell_type": "markdown",
   "metadata": {},
   "source": [
    "# 1. Load Data"
   ]
  },
  {
   "cell_type": "code",
   "execution_count": null,
   "metadata": {},
   "outputs": [],
   "source": [
    "BASE = '../embeddings'\n",
    "TAG = 'mnist'\n",
    "\n",
    "if TAG == 'mnist':\n",
    "    # SETUP MNIST\n",
    "    TEMPLATE = BASE + '/mnist/{}_embeddings.pkl'\n",
    "    #DATASET_NAMES = ['mnist', 'mnist_ds', 'mnist_sp']\n",
    "    DATASET_NAMES = ['mnist_small', 'mnist_small_ds', 'mnist_small_sp']\n",
    "elif TAG == 'wilds':\n",
    "    # SETUP WILDS\n",
    "    TEMPLATE = BASE + '/wilds/{}_featurizer_embeddings.pkl'\n",
    "    DATASET_NAMES = ['poverty', 'ogb-molpcba', 'camelyon17', 'civilcomments']"
   ]
  },
  {
   "cell_type": "code",
   "execution_count": null,
   "metadata": {},
   "outputs": [],
   "source": [
    "# Load embedding data from blobstorage.\n",
    "def load_data():\n",
    "    data = {}\n",
    "    for dataset_name in DATASET_NAMES:\n",
    "        with open(TEMPLATE.format(dataset_name), 'rb') as f:\n",
    "            data[dataset_name] = pickle.load(f)\n",
    "        \n",
    "        # Print shapes.\n",
    "        for split_name in data[dataset_name].keys():\n",
    "            print(\n",
    "                dataset_name,\n",
    "                split_name,\n",
    "                data[dataset_name][split_name]['embeddings'].shape\n",
    "            )\n",
    "\n",
    "    return data"
   ]
  },
  {
   "cell_type": "code",
   "execution_count": null,
   "metadata": {},
   "outputs": [],
   "source": [
    "DATA = load_data()"
   ]
  },
  {
   "cell_type": "markdown",
   "metadata": {},
   "source": [
    "# 2. Define Split Pairs"
   ]
  },
  {
   "cell_type": "code",
   "execution_count": null,
   "metadata": {},
   "outputs": [],
   "source": [
    "PAIRS = get_pairs(DATA)"
   ]
  },
  {
   "cell_type": "code",
   "execution_count": null,
   "metadata": {},
   "outputs": [],
   "source": [
    "print(PAIRS)"
   ]
  },
  {
   "cell_type": "markdown",
   "metadata": {},
   "source": [
    "# 3. Analyze Local Energy Distance"
   ]
  },
  {
   "cell_type": "code",
   "execution_count": null,
   "metadata": {},
   "outputs": [],
   "source": [
    "import matplotlib as mpl\n",
    "mpl.rcParams['text.usetex'] = False"
   ]
  },
  {
   "cell_type": "code",
   "execution_count": null,
   "metadata": {
    "scrolled": true
   },
   "outputs": [],
   "source": [
    "fig = analyze_local_energy_metric(DATA, PAIRS, tag=TAG, num_dist_samples=50, subsample_size=1000)"
   ]
  },
  {
   "cell_type": "code",
   "execution_count": null,
   "metadata": {},
   "outputs": [],
   "source": []
  }
 ],
 "metadata": {
  "kernelspec": {
   "display_name": "dist_shift",
   "language": "python",
   "name": "dist_shift"
  },
  "language_info": {
   "codemirror_mode": {
    "name": "ipython",
    "version": 3
   },
   "file_extension": ".py",
   "mimetype": "text/x-python",
   "name": "python",
   "nbconvert_exporter": "python",
   "pygments_lexer": "ipython3",
   "version": "3.8.5"
  }
 },
 "nbformat": 4,
 "nbformat_minor": 4
}
